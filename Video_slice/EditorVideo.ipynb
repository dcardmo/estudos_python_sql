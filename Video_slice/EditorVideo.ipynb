{
 "cells": [
  {
   "cell_type": "code",
   "execution_count": null,
   "id": "b0a8e056-cd2a-4962-abe4-de6efe01dfd9",
   "metadata": {},
   "outputs": [],
   "source": [
    "!pip install moviepy"
   ]
  },
  {
   "cell_type": "code",
   "execution_count": null,
   "id": "373d778d-c07a-482f-9df1-4ad4cafbf6cd",
   "metadata": {},
   "outputs": [],
   "source": [
    "from moviepy.video.io.VideoFileClip import VideoFileClip"
   ]
  },
  {
   "cell_type": "code",
   "execution_count": null,
   "id": "aef7190f-37c6-4f39-865a-0e20ffa978c6",
   "metadata": {},
   "outputs": [],
   "source": [
    "def dividir_video_com_intervalos(arquivo_entrada, intervalos):\n",
    "    \"\"\"\n",
    "    Divide um vídeo em partes com base em intervalos personalizados.\n",
    "\n",
    "    :param arquivo_entrada: Caminho do arquivo de vídeo original.\n",
    "    :param intervalos: Lista de tuplas contendo os tempos de início e fim para cada parte (em segundos).\n",
    "    \"\"\"\n",
    "    try:\n",
    "        # Carrega o vídeo\n",
    "        video = VideoFileClip(arquivo_entrada)\n",
    "\n",
    "        # Verifica a duração do vídeo\n",
    "        if video.duration is None:\n",
    "            raise ValueError(\"Não foi possível obter a duração do vídeo. Verifique o arquivo.\")\n",
    "        print(f\"Duração total do vídeo: {video.duration:.2f} segundos\")\n",
    "\n",
    "        # Valida os intervalos fornecidos\n",
    "        intervalos_validos = verificar_intervalos(intervalos, video.duration)\n",
    "\n",
    "        for i, (inicio, fim) in enumerate(intervalos_validos):\n",
    "            # Divide o vídeo com base nos intervalos válidos\n",
    "            trecho = video.subclip(inicio, fim)\n",
    "            arquivo_saida = f\"trecho_{i+1}.mp4\"\n",
    "            trecho.write_videofile(arquivo_saida, codec=\"libx264\", audio_codec=\"aac\")\n",
    "            print(f\"Trecho {i+1} salvo como '{arquivo_saida}' (de {inicio}s a {fim}s).\")\n",
    "\n",
    "        print(\"Divisão concluída!\")\n",
    "        video.close()\n",
    "    except FileNotFoundError:\n",
    "        print(f\"Erro: Arquivo '{arquivo_entrada}' não encontrado. Verifique o caminho.\")\n",
    "    except ValueError as ve:\n",
    "        print(f\"Erro de valor: {ve}\")\n",
    "    except Exception as e:\n",
    "        print(f\"Erro inesperado ao processar o vídeo: {e}\")"
   ]
  },
  {
   "cell_type": "code",
   "execution_count": null,
   "id": "661dfbe2-e83a-4082-94c2-1cfb1588a7d2",
   "metadata": {},
   "outputs": [],
   "source": [
    "def verificar_intervalos(intervalos, duracao):\n",
    "    \"\"\"\n",
    "    Valida os intervalos fornecidos para garantir que estão dentro da duração do vídeo.\n",
    "    \"\"\"\n",
    "    intervalos_validos = []\n",
    "    for i, (inicio, fim) in enumerate(intervalos):\n",
    "        if inicio is None or fim is None:\n",
    "            print(f\"Intervalo inválido na posição {i+1}: início ou fim é None.\")\n",
    "            continue\n",
    "        if inicio < 0 or fim > duracao or inicio >= fim:\n",
    "            print(f\"Intervalo inválido na posição {i+1}: início={inicio}, fim={fim}.\")\n",
    "            continue\n",
    "        intervalos_validos.append((inicio, fim))\n",
    "    return intervalos_validos"
   ]
  },
  {
   "cell_type": "code",
   "execution_count": null,
   "id": "41cd0643-23e6-4339-8e13-2828eb34de37",
   "metadata": {},
   "outputs": [],
   "source": [
    "# Exemplo de uso\n",
    "if __name__ == \"__main__\":\n",
    "    # Nome do arquivo de vídeo\n",
    "    arquivo_video = r\"C:\\Users\\dcard\\OneDrive\\Python\\Meus Projetos\\Arquivos Fonte\\Videos\\Dominando o Jiu Jitsu - Rodolfo Vieira - BJJ Fanatics\\1 - O Domínio do Jiu Jitsu 1.mp4\"  # Substitua pelo nome do seu vídeo"
   ]
  },
  {
   "cell_type": "code",
   "execution_count": null,
   "id": "0fd837c4-d5e0-4759-8879-ba4a53961cb2",
   "metadata": {},
   "outputs": [],
   "source": [
    "# Intervalos personalizados (em segundos): [(início1, fim1), (início2, fim2), ...]\n",
    "intervalos = [\n",
    "    (0, 60),   # Trecho de 0 a 60 segundos\n",
    "    (70, 150), # Trecho de 70 a 150 segundos\n",
    "    (200, VideoFileClip(arquivo_video).duration) # Trecho de 200 a 300 segundos\n",
    "]"
   ]
  },
  {
   "cell_type": "code",
   "execution_count": null,
   "id": "73f0775b-7976-472f-a3af-678273cbbd82",
   "metadata": {},
   "outputs": [],
   "source": [
    "dividir_video_com_intervalos(arquivo_video, intervalos)"
   ]
  },
  {
   "cell_type": "code",
   "execution_count": null,
   "id": "d470fdb9-3086-4a42-b8ae-f3cd58bbd96a",
   "metadata": {},
   "outputs": [],
   "source": []
  }
 ],
 "metadata": {
  "kernelspec": {
   "display_name": "Python 3 (ipykernel)",
   "language": "python",
   "name": "python3"
  },
  "language_info": {
   "codemirror_mode": {
    "name": "ipython",
    "version": 3
   },
   "file_extension": ".py",
   "mimetype": "text/x-python",
   "name": "python",
   "nbconvert_exporter": "python",
   "pygments_lexer": "ipython3",
   "version": "3.12.7"
  }
 },
 "nbformat": 4,
 "nbformat_minor": 5
}
